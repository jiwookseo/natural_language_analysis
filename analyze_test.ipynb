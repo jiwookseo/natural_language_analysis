{
 "cells": [
  {
   "cell_type": "code",
   "execution_count": 1,
   "id": "romantic-crystal",
   "metadata": {},
   "outputs": [],
   "source": [
    "from gcp_nlp import Tda"
   ]
  },
  {
   "cell_type": "code",
   "execution_count": 2,
   "id": "enormous-chocolate",
   "metadata": {},
   "outputs": [
    {
     "data": {
      "text/html": [
       "<div>\n",
       "<style scoped>\n",
       "    .dataframe tbody tr th:only-of-type {\n",
       "        vertical-align: middle;\n",
       "    }\n",
       "\n",
       "    .dataframe tbody tr th {\n",
       "        vertical-align: top;\n",
       "    }\n",
       "\n",
       "    .dataframe thead th {\n",
       "        text-align: right;\n",
       "    }\n",
       "</style>\n",
       "<table border=\"1\" class=\"dataframe\">\n",
       "  <thead>\n",
       "    <tr style=\"text-align: right;\">\n",
       "      <th></th>\n",
       "      <th>API</th>\n",
       "      <th>GUID</th>\n",
       "      <th>SUID</th>\n",
       "      <th>APISTAMP</th>\n",
       "      <th>ID</th>\n",
       "      <th>DOCID</th>\n",
       "      <th>CHANNEL</th>\n",
       "      <th>PID</th>\n",
       "      <th>SITE_SEQ</th>\n",
       "      <th>SITE_NAME</th>\n",
       "      <th>...</th>\n",
       "      <th>CONTENT</th>\n",
       "      <th>FILE_INFO</th>\n",
       "      <th>WRITER</th>\n",
       "      <th>WRITER_ID</th>\n",
       "      <th>WRITEDATE</th>\n",
       "      <th>WRITETIME</th>\n",
       "      <th>WRITESTAMP</th>\n",
       "      <th>KEYWORD</th>\n",
       "      <th>RATE</th>\n",
       "      <th>JSON_DATA</th>\n",
       "    </tr>\n",
       "  </thead>\n",
       "  <tbody>\n",
       "    <tr>\n",
       "      <th>0</th>\n",
       "      <td>RSN_KEYWORD</td>\n",
       "      <td>20210223-184727</td>\n",
       "      <td>1.080560e+21</td>\n",
       "      <td>2021-02-23T20:58:15.992125</td>\n",
       "      <td>1080560378</td>\n",
       "      <td>8422026744</td>\n",
       "      <td>카페</td>\n",
       "      <td>NaN</td>\n",
       "      <td>4943</td>\n",
       "      <td>다음카페</td>\n",
       "      <td>...</td>\n",
       "      <td>‘소형’ 마이너스 갭투자까지 경기권 깡통전세 주의보  \\n전셋값, 매맷값보다 높은 ...</td>\n",
       "      <td>[]</td>\n",
       "      <td>f6bc57f9b5c1c484d7e6ceb6b93f3157</td>\n",
       "      <td></td>\n",
       "      <td>2021-02-19</td>\n",
       "      <td>14:59:00</td>\n",
       "      <td>2021-02-19T14:59:00</td>\n",
       "      <td>갭투자,계약,국민은행,담보,대출,리브,리브온,매매,매물,보증금,상승,세금,세입자,아...</td>\n",
       "      <td>NaN</td>\n",
       "      <td>{'IMAGEINFO': [], 'LINKINFO': [{'url': 'https:...</td>\n",
       "    </tr>\n",
       "  </tbody>\n",
       "</table>\n",
       "<p>1 rows × 27 columns</p>\n",
       "</div>"
      ],
      "text/plain": [
       "           API             GUID          SUID                    APISTAMP  \\\n",
       "0  RSN_KEYWORD  20210223-184727  1.080560e+21  2021-02-23T20:58:15.992125   \n",
       "\n",
       "           ID       DOCID CHANNEL  PID  SITE_SEQ SITE_NAME  ...  \\\n",
       "0  1080560378  8422026744      카페  NaN      4943      다음카페  ...   \n",
       "\n",
       "                                             CONTENT  FILE_INFO  \\\n",
       "0  ‘소형’ 마이너스 갭투자까지 경기권 깡통전세 주의보  \\n전셋값, 매맷값보다 높은 ...         []   \n",
       "\n",
       "                             WRITER WRITER_ID   WRITEDATE WRITETIME  \\\n",
       "0  f6bc57f9b5c1c484d7e6ceb6b93f3157            2021-02-19  14:59:00   \n",
       "\n",
       "            WRITESTAMP                                            KEYWORD  \\\n",
       "0  2021-02-19T14:59:00  갭투자,계약,국민은행,담보,대출,리브,리브온,매매,매물,보증금,상승,세금,세입자,아...   \n",
       "\n",
       "  RATE                                          JSON_DATA  \n",
       "0  NaN  {'IMAGEINFO': [], 'LINKINFO': [{'url': 'https:...  \n",
       "\n",
       "[1 rows x 27 columns]"
      ]
     },
     "execution_count": 2,
     "metadata": {},
     "output_type": "execute_result"
    }
   ],
   "source": [
    "import pandas as pd\n",
    "df = pd.read_json('results-20210401-165016.json')\n",
    "df.head(1)"
   ]
  },
  {
   "cell_type": "code",
   "execution_count": 3,
   "id": "forward-correction",
   "metadata": {},
   "outputs": [
    {
     "data": {
      "text/html": [
       "<div>\n",
       "<style scoped>\n",
       "    .dataframe tbody tr th:only-of-type {\n",
       "        vertical-align: middle;\n",
       "    }\n",
       "\n",
       "    .dataframe tbody tr th {\n",
       "        vertical-align: top;\n",
       "    }\n",
       "\n",
       "    .dataframe thead th {\n",
       "        text-align: right;\n",
       "    }\n",
       "</style>\n",
       "<table border=\"1\" class=\"dataframe\">\n",
       "  <thead>\n",
       "    <tr style=\"text-align: right;\">\n",
       "      <th></th>\n",
       "      <th>API</th>\n",
       "      <th>GUID</th>\n",
       "      <th>SUID</th>\n",
       "      <th>APISTAMP</th>\n",
       "      <th>ID</th>\n",
       "      <th>DOCID</th>\n",
       "      <th>CHANNEL</th>\n",
       "      <th>PID</th>\n",
       "      <th>SITE_SEQ</th>\n",
       "      <th>SITE_NAME</th>\n",
       "      <th>...</th>\n",
       "      <th>CONTENT</th>\n",
       "      <th>FILE_INFO</th>\n",
       "      <th>WRITER</th>\n",
       "      <th>WRITER_ID</th>\n",
       "      <th>WRITEDATE</th>\n",
       "      <th>WRITETIME</th>\n",
       "      <th>WRITESTAMP</th>\n",
       "      <th>KEYWORD</th>\n",
       "      <th>RATE</th>\n",
       "      <th>JSON_DATA</th>\n",
       "    </tr>\n",
       "  </thead>\n",
       "  <tbody>\n",
       "  </tbody>\n",
       "</table>\n",
       "<p>0 rows × 27 columns</p>\n",
       "</div>"
      ],
      "text/plain": [
       "Empty DataFrame\n",
       "Columns: [API, GUID, SUID, APISTAMP, ID, DOCID, CHANNEL, PID, SITE_SEQ, SITE_NAME, BOARD_NAME, INFOTYPE, CRAWLDATE, CRAWLTIME, CRAWLSTAMP, TITLE, URL, CONTENT, FILE_INFO, WRITER, WRITER_ID, WRITEDATE, WRITETIME, WRITESTAMP, KEYWORD, RATE, JSON_DATA]\n",
       "Index: []\n",
       "\n",
       "[0 rows x 27 columns]"
      ]
     },
     "execution_count": 3,
     "metadata": {},
     "output_type": "execute_result"
    }
   ],
   "source": [
    "df[df['CRAWLDATE']!=df['WRITEDATE']]"
   ]
  },
  {
   "cell_type": "code",
   "execution_count": 4,
   "id": "desperate-fireplace",
   "metadata": {},
   "outputs": [
    {
     "data": {
      "text/plain": [
       "'‘소형’ 마이너스 갭투자까지 경기권 깡통전세 주의보  \\n전셋값, 매맷값보다 높은 곳 속출\\n“세입자도 투자자도 유의해야”\\n\\n정부의 적극적인 투기수요 억제 정책에도 경기권 소형 아파트를 중심으로 ‘갭투자’가 줄지 않는 모양새다. 전세가격 상승으로 매맷값과 전셋값의 격차가 줄면서 전세를 끼고 집을 사거나 입주 가능한 매물을 사들여 새로 전세를 놓는 식이다.\\n\\n일부 지역에선 매맷값보다 비싸게 전세를 주는 ‘마이너스 갭투자’까지 속출하고 있어 ‘깡통전세’에 대한 우려의 목소리가 나온다. 깡통전세는 담보대출과 전세 보증금이 매매가를 웃돌아 전세 계약이 끝난 뒤 전세금을 돌려받지 못하는 상태를 말한다.\\n\\n19일 kb국민은행 리브온에 따르면 지난달 경기도의 아파트 전세가율(매맷값 대비 전셋값 비율)은 71.7%를 기록했다. 전달(72.3%)보다는 소폭 감소했으나 여전히 높은 수준을 유지했다.\\n\\n광주가 81.8%로 가장 높았으며 동두천도 80.8%로 80% 선을 상회했다. 이 밖에 ▷이천 78.1% ▷용인 처인구 77.6% ▷평택 77.5% ▷오산 77.1% ▷고양 일산동구 76.2% ▷고양 일산서구 76.1% 등이 75% 이상의 높은 전세가율을 보였다.…헤럴드경제 신문15면  3시간전'"
      ]
     },
     "execution_count": 4,
     "metadata": {},
     "output_type": "execute_result"
    }
   ],
   "source": [
    "# df['CONTENT'] = df['CONTENT'].map(lambda x: x.replace('\\n', ' '))\n",
    "df['CONTENT'][0]"
   ]
  },
  {
   "cell_type": "code",
   "execution_count": 5,
   "id": "collected-square",
   "metadata": {},
   "outputs": [
    {
     "data": {
      "text/plain": [
       "<gcp_nlp.Tda at 0x2d97dc744f0>"
      ]
     },
     "execution_count": 5,
     "metadata": {},
     "output_type": "execute_result"
    }
   ],
   "source": [
    "tda = Tda(df['CONTENT'][0])\n",
    "tda"
   ]
  },
  {
   "cell_type": "code",
   "execution_count": 6,
   "id": "cardiac-catalog",
   "metadata": {},
   "outputs": [
    {
     "data": {
      "text/html": [
       "<div>\n",
       "<style scoped>\n",
       "    .dataframe tbody tr th:only-of-type {\n",
       "        vertical-align: middle;\n",
       "    }\n",
       "\n",
       "    .dataframe tbody tr th {\n",
       "        vertical-align: top;\n",
       "    }\n",
       "\n",
       "    .dataframe thead th {\n",
       "        text-align: right;\n",
       "    }\n",
       "</style>\n",
       "<table border=\"1\" class=\"dataframe\">\n",
       "  <thead>\n",
       "    <tr style=\"text-align: right;\">\n",
       "      <th></th>\n",
       "      <th>salience</th>\n",
       "      <th>count</th>\n",
       "    </tr>\n",
       "    <tr>\n",
       "      <th>name</th>\n",
       "      <th></th>\n",
       "      <th></th>\n",
       "    </tr>\n",
       "  </thead>\n",
       "  <tbody>\n",
       "    <tr>\n",
       "      <th>전세</th>\n",
       "      <td>0.101864</td>\n",
       "      <td>5</td>\n",
       "    </tr>\n",
       "    <tr>\n",
       "      <th>전셋값</th>\n",
       "      <td>0.063576</td>\n",
       "      <td>3</td>\n",
       "    </tr>\n",
       "    <tr>\n",
       "      <th>매맷값</th>\n",
       "      <td>0.059590</td>\n",
       "      <td>4</td>\n",
       "    </tr>\n",
       "    <tr>\n",
       "      <th>경기권</th>\n",
       "      <td>0.049858</td>\n",
       "      <td>2</td>\n",
       "    </tr>\n",
       "    <tr>\n",
       "      <th>마이너스 갭투자</th>\n",
       "      <td>0.043363</td>\n",
       "      <td>2</td>\n",
       "    </tr>\n",
       "    <tr>\n",
       "      <th>깡통전세</th>\n",
       "      <td>0.041316</td>\n",
       "      <td>2</td>\n",
       "    </tr>\n",
       "    <tr>\n",
       "      <th>경기도</th>\n",
       "      <td>0.022095</td>\n",
       "      <td>1</td>\n",
       "    </tr>\n",
       "    <tr>\n",
       "      <th>전세가율</th>\n",
       "      <td>0.021090</td>\n",
       "      <td>2</td>\n",
       "    </tr>\n",
       "    <tr>\n",
       "      <th>이천</th>\n",
       "      <td>0.018953</td>\n",
       "      <td>2</td>\n",
       "    </tr>\n",
       "    <tr>\n",
       "      <th>일산동구</th>\n",
       "      <td>0.018452</td>\n",
       "      <td>1</td>\n",
       "    </tr>\n",
       "  </tbody>\n",
       "</table>\n",
       "</div>"
      ],
      "text/plain": [
       "          salience  count\n",
       "name                     \n",
       "전세        0.101864      5\n",
       "전셋값       0.063576      3\n",
       "매맷값       0.059590      4\n",
       "경기권       0.049858      2\n",
       "마이너스 갭투자  0.043363      2\n",
       "깡통전세      0.041316      2\n",
       "경기도       0.022095      1\n",
       "전세가율      0.021090      2\n",
       "이천        0.018953      2\n",
       "일산동구      0.018452      1"
      ]
     },
     "execution_count": 6,
     "metadata": {},
     "output_type": "execute_result"
    }
   ],
   "source": [
    "tda.entities.head(10)"
   ]
  },
  {
   "cell_type": "code",
   "execution_count": null,
   "id": "logical-celebrity",
   "metadata": {},
   "outputs": [],
   "source": [
    "tda.sentences"
   ]
  },
  {
   "cell_type": "code",
   "execution_count": null,
   "id": "educated-congress",
   "metadata": {
    "scrolled": true
   },
   "outputs": [],
   "source": [
    "tda.tokens"
   ]
  },
  {
   "cell_type": "code",
   "execution_count": null,
   "id": "corrected-intelligence",
   "metadata": {},
   "outputs": [],
   "source": [
    "tda.sentiment"
   ]
  },
  {
   "cell_type": "code",
   "execution_count": null,
   "id": "behavioral-comedy",
   "metadata": {},
   "outputs": [],
   "source": [
    "tda.categories"
   ]
  },
  {
   "cell_type": "code",
   "execution_count": null,
   "id": "exclusive-timothy",
   "metadata": {},
   "outputs": [],
   "source": [
    "tda.result"
   ]
  },
  {
   "cell_type": "code",
   "execution_count": null,
   "id": "prerequisite-tobago",
   "metadata": {},
   "outputs": [],
   "source": [
    "import json\n",
    "\n",
    "with open(f\"data/{0}.json\", \"w\", encoding=\"UTF-8\") as f:\n",
    "    json.dump(tda.result, f, indent=2, sort_keys=True, ensure_ascii=False)"
   ]
  },
  {
   "cell_type": "code",
   "execution_count": null,
   "id": "unusual-charter",
   "metadata": {},
   "outputs": [],
   "source": [
    "type(tda.result)"
   ]
  },
  {
   "cell_type": "code",
   "execution_count": null,
   "id": "measured-positive",
   "metadata": {},
   "outputs": [],
   "source": [
    "with open(f\"data/{0}.json\", \"r\", encoding=\"UTF-8\") as f:\n",
    "    print(type(json.load(f)))"
   ]
  },
  {
   "cell_type": "code",
   "execution_count": 7,
   "id": "ranging-obligation",
   "metadata": {},
   "outputs": [],
   "source": [
    "tda2 = Tda(path='data/0.json')"
   ]
  },
  {
   "cell_type": "code",
   "execution_count": 8,
   "id": "requested-essence",
   "metadata": {},
   "outputs": [
    {
     "data": {
      "text/html": [
       "<div>\n",
       "<style scoped>\n",
       "    .dataframe tbody tr th:only-of-type {\n",
       "        vertical-align: middle;\n",
       "    }\n",
       "\n",
       "    .dataframe tbody tr th {\n",
       "        vertical-align: top;\n",
       "    }\n",
       "\n",
       "    .dataframe thead th {\n",
       "        text-align: right;\n",
       "    }\n",
       "</style>\n",
       "<table border=\"1\" class=\"dataframe\">\n",
       "  <thead>\n",
       "    <tr style=\"text-align: right;\">\n",
       "      <th></th>\n",
       "      <th>salience</th>\n",
       "      <th>count</th>\n",
       "    </tr>\n",
       "    <tr>\n",
       "      <th>name</th>\n",
       "      <th></th>\n",
       "      <th></th>\n",
       "    </tr>\n",
       "  </thead>\n",
       "  <tbody>\n",
       "    <tr>\n",
       "      <th>전세</th>\n",
       "      <td>0.101864</td>\n",
       "      <td>5</td>\n",
       "    </tr>\n",
       "    <tr>\n",
       "      <th>전셋값</th>\n",
       "      <td>0.063576</td>\n",
       "      <td>3</td>\n",
       "    </tr>\n",
       "    <tr>\n",
       "      <th>매맷값</th>\n",
       "      <td>0.059590</td>\n",
       "      <td>4</td>\n",
       "    </tr>\n",
       "    <tr>\n",
       "      <th>경기권</th>\n",
       "      <td>0.049858</td>\n",
       "      <td>2</td>\n",
       "    </tr>\n",
       "    <tr>\n",
       "      <th>마이너스 갭투자</th>\n",
       "      <td>0.043363</td>\n",
       "      <td>2</td>\n",
       "    </tr>\n",
       "    <tr>\n",
       "      <th>깡통전세</th>\n",
       "      <td>0.041316</td>\n",
       "      <td>2</td>\n",
       "    </tr>\n",
       "    <tr>\n",
       "      <th>경기도</th>\n",
       "      <td>0.022095</td>\n",
       "      <td>1</td>\n",
       "    </tr>\n",
       "    <tr>\n",
       "      <th>전세가율</th>\n",
       "      <td>0.021090</td>\n",
       "      <td>2</td>\n",
       "    </tr>\n",
       "    <tr>\n",
       "      <th>이천</th>\n",
       "      <td>0.018953</td>\n",
       "      <td>2</td>\n",
       "    </tr>\n",
       "    <tr>\n",
       "      <th>일산동구</th>\n",
       "      <td>0.018452</td>\n",
       "      <td>1</td>\n",
       "    </tr>\n",
       "  </tbody>\n",
       "</table>\n",
       "</div>"
      ],
      "text/plain": [
       "          salience  count\n",
       "name                     \n",
       "전세        0.101864      5\n",
       "전셋값       0.063576      3\n",
       "매맷값       0.059590      4\n",
       "경기권       0.049858      2\n",
       "마이너스 갭투자  0.043363      2\n",
       "깡통전세      0.041316      2\n",
       "경기도       0.022095      1\n",
       "전세가율      0.021090      2\n",
       "이천        0.018953      2\n",
       "일산동구      0.018452      1"
      ]
     },
     "execution_count": 8,
     "metadata": {},
     "output_type": "execute_result"
    }
   ],
   "source": [
    "tda2.entities.head(10)"
   ]
  },
  {
   "cell_type": "code",
   "execution_count": null,
   "id": "false-swedish",
   "metadata": {},
   "outputs": [],
   "source": []
  }
 ],
 "metadata": {
  "kernelspec": {
   "display_name": "Python 3",
   "language": "python",
   "name": "python3"
  },
  "language_info": {
   "codemirror_mode": {
    "name": "ipython",
    "version": 3
   },
   "file_extension": ".py",
   "mimetype": "text/x-python",
   "name": "python",
   "nbconvert_exporter": "python",
   "pygments_lexer": "ipython3",
   "version": "3.9.2"
  }
 },
 "nbformat": 4,
 "nbformat_minor": 5
}
